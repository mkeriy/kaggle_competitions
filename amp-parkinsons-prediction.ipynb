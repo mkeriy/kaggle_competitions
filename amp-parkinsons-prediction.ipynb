{
 "cells": [
  {
   "attachments": {},
   "cell_type": "markdown",
   "metadata": {},
   "source": [
    "## Libs"
   ]
  },
  {
   "cell_type": "code",
   "execution_count": null,
   "metadata": {},
   "outputs": [],
   "source": [
    "import numpy as np\n",
    "import pandas as pd\n",
    "\n",
    "import matplotlib.pyplot as plt\n",
    "import seaborn as sns\n",
    "sns.set(palette=\"Set2\", style='whitegrid', font_scale=1.3)\n",
    "\n",
    "import scipy.stats as sps\n",
    "from scipy.optimize import minimize\n",
    "\n",
    "from functools import partial\n",
    "\n",
    "import warnings\n",
    "warnings.filterwarnings('ignore')"
   ]
  },
  {
   "cell_type": "code",
   "execution_count": null,
   "metadata": {},
   "outputs": [],
   "source": [
    "import xgboost as xgb\n",
    "from sklearn.ensemble import RandomForestRegressor\n"
   ]
  },
  {
   "attachments": {},
   "cell_type": "markdown",
   "metadata": {},
   "source": [
    "## Metric"
   ]
  },
  {
   "cell_type": "code",
   "execution_count": null,
   "metadata": {},
   "outputs": [],
   "source": [
    "def smape_plus_1(y_true, y_pred):\n",
    "    y_true_plus_1 = y_true + 1\n",
    "    y_pred_plus_1 = y_pred + 1\n",
    "    metric = np.zeros(len(y_true_plus_1))\n",
    "    \n",
    "    numerator = np.abs(y_true_plus_1 - y_pred_plus_1)\n",
    "    denominator = ((np.abs(y_true_plus_1) + np.abs(y_pred_plus_1)) / 2)\n",
    "    \n",
    "    mask_not_zeros = (y_true_plus_1 != 0) | (y_pred_plus_1 != 0)\n",
    "    metric[mask_not_zeros] = numerator[mask_not_zeros] / denominator[mask_not_zeros]\n",
    "    \n",
    "    return 100 * np.nanmean(metric)"
   ]
  },
  {
   "attachments": {},
   "cell_type": "markdown",
   "metadata": {},
   "source": [
    "## Data import"
   ]
  },
  {
   "cell_type": "code",
   "execution_count": null,
   "metadata": {},
   "outputs": [],
   "source": [
    "df_cl = pd.read_csv('./data/train_clinical_data.csv')\n",
    "df_pep = pd.read_csv('./data/train_peptides.csv')\n",
    "df_prot = pd.read_csv('./data/train_proteins.csv')\n",
    "df_sup_cl = pd.read_csv('./data/supplemental_clinical_data.csv')"
   ]
  },
  {
   "cell_type": "code",
   "execution_count": null,
   "metadata": {},
   "outputs": [],
   "source": [
    "# df_cl= pd.read_csv('/kaggle/input/amp-parkinsons-disease-progression-prediction/train_clinical_data.csv')\n",
    "\n",
    "\n",
    "# df_pep = pd.read_csv('/kaggle/input/amp-parkinsons-disease-progression-prediction/train_peptides.csv')\n",
    "# df_prot = pd.read_csv('/kaggle/input/amp-parkinsons-disease-progression-prediction/train_proteins.csv')\n",
    "\n",
    "# df_sup_cl = pd.read_csv('/kaggle/input/amp-parkinsons-disease-progression-prediction/supplemental_clinical_data.csv')\n"
   ]
  },
  {
   "attachments": {},
   "cell_type": "markdown",
   "metadata": {},
   "source": [
    "## Main Functionality"
   ]
  },
  {
   "attachments": {},
   "cell_type": "markdown",
   "metadata": {},
   "source": [
    "### Data preparation"
   ]
  },
  {
   "cell_type": "code",
   "execution_count": null,
   "metadata": {},
   "outputs": [],
   "source": [
    "def generate_targetset_cols(data):\n",
    "    data['pred_month'] = data['visit_month']\n",
    "    for plus_month in [6, 12, 24]:\n",
    "        train_shift = data[['patient_id', 'visit_month', 'pred_month', 'updrs_1', 'updrs_2', 'updrs_3', 'updrs_4']].copy()\n",
    "        train_shift['visit_month'] -= plus_month\n",
    "        train_shift.rename(columns={f'updrs_{i}': f'updrs_{i}_plus_{plus_month}' for i in range(1, 5)}, inplace=True)\n",
    "        train_shift.rename(columns={'pred_month': f'pred_month_plus_{plus_month}'}, inplace=True)\n",
    "        data = data.merge(train_shift, how='left', on=['patient_id', 'visit_month'])\n",
    "       \n",
    "    data.rename(columns={f'updrs_{i}': f'updrs_{i}_plus_0' for i in range(1, 5)}, inplace=True)\n",
    "    data.rename(columns={'pred_month': f'pred_month_plus_0'}, inplace=True)\n",
    "    return data\n",
    "    \n",
    "def generate_targetset_rows(data):\n",
    "    data['pred_month'] = data['visit_month']\n",
    "    data['plus_month'] = data['visit_month'] - data['visit_month']\n",
    "    output = data.copy()\n",
    "    for plus_month in [6, 12, 24]:\n",
    "        train_shift = data.copy()\n",
    "        train_shift['visit_month'] -= plus_month\n",
    "        train_shift['plus_month'] += plus_month\n",
    "        train_shift['visit_id'] = train_shift['patient_id'].astype('str') + '_' + train_shift['visit_month'].astype('str')\n",
    "        train_shift.drop(index=train_shift[train_shift.visit_month < 0].index, inplace=True)\n",
    "        output = pd.concat([output, train_shift])\n",
    "\n",
    "    output.sort_values(by=['patient_id', 'visit_month'], inplace=True)\n",
    "    output.set_index(['visit_id'], inplace=True)\n",
    "    return output"
   ]
  },
  {
   "cell_type": "code",
   "execution_count": null,
   "metadata": {},
   "outputs": [],
   "source": [
    "def build_features(peptides, proteins, cols):\n",
    "    merged = pd.merge(peptides, proteins, on = ['visit_id', 'visit_month', 'patient_id', 'UniProt'])\n",
    "    t_p = merged.pivot(index = 'visit_id', columns = ['Peptide', 'UniProt'], values = ['PeptideAbundance', 'NPX'])\n",
    "    t_p.fillna(0, inplace=True)\n",
    "    list_a = list((Counter(t_p.columns) - Counter(cols)).elements()) \n",
    "    t_p.drop(columns=list_a, inplace=True)\n",
    "    list_c = list((Counter(cols) - Counter(t_p.columns)).elements()) \n",
    "    t_p[list_c] = np.zeros((t_p.shape[0], len(list_c)))\n",
    "    return t_p[sorted(t_p.columns)]"
   ]
  },
  {
   "attachments": {},
   "cell_type": "markdown",
   "metadata": {},
   "source": [
    "### Trends"
   ]
  },
  {
   "cell_type": "code",
   "execution_count": null,
   "metadata": {},
   "outputs": [],
   "source": [
    "def calculate_trend(pred_month, trend, target):\n",
    "    if target == 'updrs_4': pred_month = pred_month.clip(54, None)\n",
    "    # return trend[0] + pred_month * trend[1]\n",
    "    if len(trend) == 2:\n",
    "        return np.round(trend[0] + pred_month * trend[1]) # linear prediction\n",
    "    return np.round(trend[0] + pred_month * trend[1] + np.square(pred_month) * trend[2])\n",
    "\n",
    "def function_to_minimize(x, y_true_array, pred_month_array, target):    \n",
    "    metric = smape_plus_1(\n",
    "        y_true=y_true_array, \n",
    "        y_pred=calculate_trend(\n",
    "            pred_month=pred_month_array,\n",
    "            trend=x,\n",
    "            target=target\n",
    "        )\n",
    "    )\n",
    "    return metric\n",
    "\n",
    "\n",
    "def find_trend(data):\n",
    "    \n",
    "    target_to_trend = {}\n",
    "    for i in range(1, 5):\n",
    "        target = f'updrs_{i}'\n",
    "        columns_with_target = [f'{target}_plus_{plus_month}' for plus_month in [0, 6, 12, 24]]\n",
    "        columns_with_pred_month = [f'pred_month_plus_{plus_month}' for plus_month in [0, 6, 12, 24]]\n",
    "        y_true_array = data[columns_with_target].values.ravel()\n",
    "        pred_month_array = data[columns_with_pred_month].values.ravel()\n",
    "        # trend = list(minimize(\n",
    "        #         fun=partial(function_to_minimize,\n",
    "        #                 y_true_array=y_true_array,\n",
    "        #                 pred_month_array=pred_month_array,\n",
    "        #                 target=target),\n",
    "        #     x0=[0, 0.0048],\n",
    "        #     method='Powell'\n",
    "        # ).x)\n",
    "        trend = list(minimize(\n",
    "                fun=partial(function_to_minimize,\n",
    "                    y_true_array=y_true_array,\n",
    "                    pred_month_array=pred_month_array,\n",
    "                    target=target\n",
    "                   ),\n",
    "        # if x0 has two elements, the predictions will be linear\n",
    "        # if x0 has three elements, the predictions will be quadratic\n",
    "                x0=[0, 0.0048] if target != 'updrs_3' else [0, 0, 0],\n",
    "                method='Powell'\n",
    "                ).x)\n",
    "        target_to_trend[target] = trend\n",
    "    return target_to_trend"
   ]
  },
  {
   "attachments": {},
   "cell_type": "markdown",
   "metadata": {},
   "source": [
    "### Models"
   ]
  },
  {
   "cell_type": "code",
   "execution_count": null,
   "metadata": {},
   "outputs": [],
   "source": [
    "def train_models(models, features, target):#may be add model and params, after finding good hyperparams\n",
    "    for col in target.columns: \n",
    "        # models[col] = xgb.XGBRegressor().fit(features, target[col])\n",
    "        models[col] = models[col].fit(features, target[col])\n",
    "    return models"
   ]
  },
  {
   "attachments": {},
   "cell_type": "markdown",
   "metadata": {},
   "source": [
    "### Prediction "
   ]
  },
  {
   "cell_type": "code",
   "execution_count": null,
   "metadata": {},
   "outputs": [],
   "source": [
    "def calculate_predictions(features, target_df, target, basis_id, pp_id, basis_trend, model):\n",
    "    target_df.loc[basis_id, 'rating'] = calculate_trend(pred_month=target_df.loc[basis_id,'pred_month'],\n",
    "                                                                                    trend=basis_trend[target],\n",
    "                                                                                    target=target)\n",
    "    if target in ['updrs_1', 'updrs_3']:\n",
    "        target_df.loc[pp_id, 'rating'] = calculate_trend(pred_month=target_df.loc[pp_id,'pred_month'],\n",
    "                                                                                trend=basis_trend[target],\n",
    "                                                                                target=target) + model[target].predict(features)\n",
    "    else:\n",
    "        target_df.loc[pp_id, 'rating'] = np.round(calculate_trend(pred_month=target_df.loc[pp_id,'pred_month'],\n",
    "                                                                                trend=basis_trend[target],\n",
    "                                                                                target=target) + model[target].predict(features))\n",
    "    return target_df.rating"
   ]
  },
  {
   "attachments": {},
   "cell_type": "markdown",
   "metadata": {},
   "source": [
    "## Trainning stage"
   ]
  },
  {
   "attachments": {},
   "cell_type": "markdown",
   "metadata": {},
   "source": [
    "### Data preparation"
   ]
  },
  {
   "cell_type": "code",
   "execution_count": null,
   "metadata": {},
   "outputs": [],
   "source": [
    "df_all_cl = pd.concat([df_cl, df_sup_cl])\n",
    "df_all_cl = df_all_cl[~df_all_cl.visit_month.isin([3, 5, 9])]"
   ]
  },
  {
   "attachments": {},
   "cell_type": "markdown",
   "metadata": {},
   "source": [
    "### Trends finding"
   ]
  },
  {
   "cell_type": "code",
   "execution_count": null,
   "metadata": {},
   "outputs": [],
   "source": [
    "df_basis_trend = generate_targetset_cols(df_all_cl)\n",
    "\n",
    "basis_trend = find_trend(df_basis_trend)"
   ]
  },
  {
   "cell_type": "code",
   "execution_count": null,
   "metadata": {},
   "outputs": [],
   "source": [
    "merged_pep_prot =  pd.merge(df_prot, df_pep, on = ['visit_id', 'visit_month', 'patient_id', 'UniProt'])\n",
    "pivoted_pep_prot = merged_pep_prot.pivot(index = 'visit_id', columns = ['Peptide', 'UniProt'], values = ['PeptideAbundance', 'NPX'])\n",
    "pivoted_pep_prot.fillna(0, inplace=True)\n",
    "\n",
    "target = generate_targetset_rows(df_all_cl)\n",
    "df_train = pd.merge(target, pivoted_pep_prot[sorted(pivoted_pep_prot.columns)], on = 'visit_id', how = 'inner')"
   ]
  },
  {
   "cell_type": "code",
   "execution_count": null,
   "metadata": {},
   "outputs": [],
   "source": [
    "X = df_train.drop(columns=['patient_id', 'upd23b_clinical_state_on_medication', 'updrs_1', 'updrs_2', 'updrs_3', 'updrs_4'])\n",
    "y = df_train[['pred_month','updrs_1', 'updrs_2', 'updrs_3', 'updrs_4']]"
   ]
  },
  {
   "cell_type": "code",
   "execution_count": null,
   "metadata": {},
   "outputs": [],
   "source": [
    "for i in range(1, 5):\n",
    "    t = f'updrs_{i}'\n",
    "    y[t] -= calculate_trend(y.pred_month, basis_trend[t], t)\n"
   ]
  },
  {
   "cell_type": "code",
   "execution_count": null,
   "metadata": {},
   "outputs": [],
   "source": [
    "y.drop(columns=['pred_month'], inplace=True)"
   ]
  },
  {
   "cell_type": "code",
   "execution_count": null,
   "metadata": {},
   "outputs": [],
   "source": [
    "basis_trend"
   ]
  },
  {
   "cell_type": "code",
   "execution_count": null,
   "metadata": {},
   "outputs": [],
   "source": [
    "models = {\n",
    "    'updrs_1' : xgb.XGBRegressor(eta=0.05, max_depth=7, n_estimators=106),\n",
    "    'updrs_2' : RandomForestRegressor(max_depth=36, n_estimators=660),\n",
    "    'updrs_3' : xgb.XGBRegressor(eta=0.05, max_depth=7, n_estimators=106),\n",
    "    'updrs_4' : xgb.XGBRegressor(eta=0.05, max_depth=7, n_estimators=106)\n",
    "}"
   ]
  },
  {
   "cell_type": "code",
   "execution_count": null,
   "metadata": {},
   "outputs": [],
   "source": [
    "xgb_models = train_models(models, X, y)"
   ]
  },
  {
   "attachments": {},
   "cell_type": "markdown",
   "metadata": {},
   "source": [
    "## Submission"
   ]
  },
  {
   "cell_type": "code",
   "execution_count": null,
   "metadata": {},
   "outputs": [],
   "source": [
    "import amp_pd_peptide\n",
    "from collections import Counter"
   ]
  },
  {
   "cell_type": "code",
   "execution_count": null,
   "metadata": {},
   "outputs": [],
   "source": [
    "# amp_pd_peptide.make_env.func_dict['__called__'] = False\n",
    "env = amp_pd_peptide.make_env()   # initialize the environment\n",
    "iter_test = env.iter_test()    # an iterator which loops over the test files\n",
    "\n",
    "# The API will deliver four dataframes in this specific order:\n",
    "for test_clinical_data, test_peptides, test_proteins, sample_submission in iter_test:\n",
    "    sample_submission['visit_id'] = sample_submission['prediction_id'].map(lambda x: x.split('_')[0] + '_' + x.split('_')[1])\n",
    "    sample_submission['patient_id'] = sample_submission['prediction_id'].map(lambda x: int(x.split('_')[0]))\n",
    "    sample_submission['visit_month'] = sample_submission['prediction_id'].map(lambda x: int(x.split('_')[1]))\n",
    "    sample_submission['target_name'] = sample_submission['prediction_id'].map(lambda x: 'updrs_' + x.split('_')[3])\n",
    "    sample_submission['plus_month'] = sample_submission['prediction_id'].map(lambda x: int(x.split('_')[5]))\n",
    "    sample_submission['pred_month'] = sample_submission['visit_month'] + sample_submission['plus_month']\n",
    "    sample_submission.set_index('visit_id', inplace=True)\n",
    "    prot_pep_features = build_features(test_peptides, test_proteins, X.columns[3:])\n",
    "    \n",
    "    df_test = pd.merge(sample_submission, prot_pep_features, on = 'visit_id', how = 'inner')\n",
    "    # display(df_test)\n",
    "    # df_test.set_index('visit_id', inplace=True)\n",
    "    for i in range(1, 5):\n",
    "    \n",
    "        target = f'updrs_{i}'\n",
    "\n",
    "        mask_target = sample_submission['target_name'] == target\n",
    "        mask_target_1 = df_test['target_name'] == target\n",
    "        # display(sample_submission.loc[mask_target,:])\n",
    "        # sample_submission.loc[mask_target, 'rating'] = calculate_linear_trend(\n",
    "        #     pred_month=np.array(sample_submission.loc[mask_target, 'pred_month']),\n",
    "        #     target=target\n",
    "        # )\n",
    "        # display(sample_submission[sample_submission['visit_id']==])\n",
    "        test = df_test.loc[mask_target_1, :]\n",
    "        test = test[X.columns]\n",
    "        list_c = list((Counter(sample_submission.index.unique()) - Counter(test.index.unique())).elements()) \n",
    "        # display(test)\n",
    "        # print(list_c)\n",
    "        # display(sample_submission.loc[list_c, :])\n",
    "        sample_submission.loc[mask_target, 'rating'] = calculate_predictions(test, sample_submission.loc[mask_target, :], \n",
    "                                                                             target, list_c, test.index.unique(), basis_trend, linear_trends, xgb_models)\n",
    "        display(sample_submission.loc[mask_target,:])\n",
    "        \n",
    "\n",
    "   \n",
    "    # call env.predict for every iteration\n",
    "    env.predict(sample_submission[['prediction_id', 'rating']])\n"
   ]
  }
 ],
 "metadata": {
  "kernelspec": {
   "display_name": "jupnote",
   "language": "python",
   "name": "python3"
  },
  "language_info": {
   "codemirror_mode": {
    "name": "ipython",
    "version": 3
   },
   "file_extension": ".py",
   "mimetype": "text/x-python",
   "name": "python",
   "nbconvert_exporter": "python",
   "pygments_lexer": "ipython3",
   "version": "3.10.9"
  },
  "orig_nbformat": 4
 },
 "nbformat": 4,
 "nbformat_minor": 2
}
